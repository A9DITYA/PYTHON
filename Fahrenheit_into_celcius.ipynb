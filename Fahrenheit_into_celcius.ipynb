{
 "cells": [
  {
   "cell_type": "code",
   "execution_count": null,
   "id": "3936ecf3-f89a-4a0c-bdb9-8d42c1811e09",
   "metadata": {},
   "outputs": [
    {
     "name": "stdout",
     "output_type": "stream",
     "text": [
      "Convert Fahrenheit into Celcius\n"
     ]
    }
   ],
   "source": [
    "#write a program to accept a temperature in Fahrenheit degree and convert it into Centigrade degree and print both temperature.\n",
    "\n",
    "#C=[(F-32)*5]/9\n",
    "\n",
    "print(\"Convert Fahrenheit into Celcius\")\n",
    "f=eval(input(\"Enter Fahrenheit value\"))\n",
    "c=((f-32)*5)/9\n",
    "print(\"Your Fahrenheit value is\",f)\n",
    "print(\"Your Celcius value is\",c)\n",
    "\n",
    "\n",
    "       \n"
   ]
  },
  {
   "cell_type": "code",
   "execution_count": null,
   "id": "db84705b-bf94-494c-a8f3-63ea3fc69004",
   "metadata": {},
   "outputs": [],
   "source": [
    "#"
   ]
  }
 ],
 "metadata": {
  "kernelspec": {
   "display_name": "Python 3 (ipykernel)",
   "language": "python",
   "name": "python3"
  },
  "language_info": {
   "codemirror_mode": {
    "name": "ipython",
    "version": 3
   },
   "file_extension": ".py",
   "mimetype": "text/x-python",
   "name": "python",
   "nbconvert_exporter": "python",
   "pygments_lexer": "ipython3",
   "version": "3.9.12"
  }
 },
 "nbformat": 4,
 "nbformat_minor": 5
}
